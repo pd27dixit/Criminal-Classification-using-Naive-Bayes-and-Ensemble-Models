{
  "nbformat": 4,
  "nbformat_minor": 0,
  "metadata": {
    "colab": {
      "provenance": [],
      "include_colab_link": true
    },
    "kernelspec": {
      "name": "python3",
      "display_name": "Python 3"
    },
    "language_info": {
      "name": "python"
    }
  },
  "cells": [
    {
      "cell_type": "markdown",
      "metadata": {
        "id": "view-in-github",
        "colab_type": "text"
      },
      "source": [
        "<a href=\"https://colab.research.google.com/github/ggggg-15/DataAnalytics/blob/main/DA_Asgn1.ipynb\" target=\"_parent\"><img src=\"https://colab.research.google.com/assets/colab-badge.svg\" alt=\"Open In Colab\"/></a>"
      ]
    },
    {
      "cell_type": "code",
      "execution_count": 15,
      "metadata": {
        "colab": {
          "base_uri": "https://localhost:8080/"
        },
        "id": "NAPL7k6sS1fP",
        "outputId": "78dead3b-a729-4a0d-897a-c708264999ab"
      },
      "outputs": [
        {
          "output_type": "stream",
          "name": "stdout",
          "text": [
            "Requirement already satisfied: gspread in /usr/local/lib/python3.10/dist-packages (6.1.2)\n",
            "Requirement already satisfied: pandas in /usr/local/lib/python3.10/dist-packages (2.2.2)\n",
            "Requirement already satisfied: gspread-dataframe in /usr/local/lib/python3.10/dist-packages (4.0.0)\n",
            "Requirement already satisfied: google-auth>=1.12.0 in /usr/local/lib/python3.10/dist-packages (from gspread) (2.27.0)\n",
            "Requirement already satisfied: google-auth-oauthlib>=0.4.1 in /usr/local/lib/python3.10/dist-packages (from gspread) (1.2.1)\n",
            "Requirement already satisfied: numpy>=1.22.4 in /usr/local/lib/python3.10/dist-packages (from pandas) (1.26.4)\n",
            "Requirement already satisfied: python-dateutil>=2.8.2 in /usr/local/lib/python3.10/dist-packages (from pandas) (2.8.2)\n",
            "Requirement already satisfied: pytz>=2020.1 in /usr/local/lib/python3.10/dist-packages (from pandas) (2024.1)\n",
            "Requirement already satisfied: tzdata>=2022.7 in /usr/local/lib/python3.10/dist-packages (from pandas) (2024.1)\n",
            "Requirement already satisfied: six>=1.12.0 in /usr/local/lib/python3.10/dist-packages (from gspread-dataframe) (1.16.0)\n",
            "Requirement already satisfied: cachetools<6.0,>=2.0.0 in /usr/local/lib/python3.10/dist-packages (from google-auth>=1.12.0->gspread) (5.5.0)\n",
            "Requirement already satisfied: pyasn1-modules>=0.2.1 in /usr/local/lib/python3.10/dist-packages (from google-auth>=1.12.0->gspread) (0.4.0)\n",
            "Requirement already satisfied: rsa<5,>=3.1.4 in /usr/local/lib/python3.10/dist-packages (from google-auth>=1.12.0->gspread) (4.9)\n",
            "Requirement already satisfied: requests-oauthlib>=0.7.0 in /usr/local/lib/python3.10/dist-packages (from google-auth-oauthlib>=0.4.1->gspread) (1.3.1)\n",
            "Requirement already satisfied: pyasn1<0.7.0,>=0.4.6 in /usr/local/lib/python3.10/dist-packages (from pyasn1-modules>=0.2.1->google-auth>=1.12.0->gspread) (0.6.0)\n",
            "Requirement already satisfied: oauthlib>=3.0.0 in /usr/local/lib/python3.10/dist-packages (from requests-oauthlib>=0.7.0->google-auth-oauthlib>=0.4.1->gspread) (3.2.2)\n",
            "Requirement already satisfied: requests>=2.0.0 in /usr/local/lib/python3.10/dist-packages (from requests-oauthlib>=0.7.0->google-auth-oauthlib>=0.4.1->gspread) (2.32.3)\n",
            "Requirement already satisfied: charset-normalizer<4,>=2 in /usr/local/lib/python3.10/dist-packages (from requests>=2.0.0->requests-oauthlib>=0.7.0->google-auth-oauthlib>=0.4.1->gspread) (3.3.2)\n",
            "Requirement already satisfied: idna<4,>=2.5 in /usr/local/lib/python3.10/dist-packages (from requests>=2.0.0->requests-oauthlib>=0.7.0->google-auth-oauthlib>=0.4.1->gspread) (3.8)\n",
            "Requirement already satisfied: urllib3<3,>=1.21.1 in /usr/local/lib/python3.10/dist-packages (from requests>=2.0.0->requests-oauthlib>=0.7.0->google-auth-oauthlib>=0.4.1->gspread) (2.0.7)\n",
            "Requirement already satisfied: certifi>=2017.4.17 in /usr/local/lib/python3.10/dist-packages (from requests>=2.0.0->requests-oauthlib>=0.7.0->google-auth-oauthlib>=0.4.1->gspread) (2024.7.4)\n"
          ]
        }
      ],
      "source": [
        "!pip install --upgrade gspread pandas gspread-dataframe\n"
      ]
    },
    {
      "cell_type": "code",
      "source": [
        "import gspread\n",
        "from google.colab import auth\n",
        "from google.auth import default\n",
        "import pandas as pd\n",
        "from gspread_dataframe import get_as_dataframe\n",
        "import numpy as np\n",
        "import pandas as pd\n",
        "from collections import defaultdict\n",
        "import math\n",
        "\n",
        "# Authenticate and initialize the Google Sheets API\n",
        "auth.authenticate_user()\n",
        "creds, _ = default()\n",
        "gc = gspread.authorize(creds)\n",
        "\n",
        "# Open the Google Sheet using the URL\n",
        "sheet_url = 'https://docs.google.com/spreadsheets/d/1k4LkeZctJlmkzwnePxfaG3hfD-pgsJ8pFH5clW9FlqA/edit?usp=sharing'\n",
        "\n",
        "sheet = gc.open_by_url(sheet_url)\n",
        "\n",
        "# Select the specific worksheet within the sheet\n",
        "worksheet = sheet.get_worksheet(0)  # Assuming you want the first sheet\n",
        "\n",
        "# Convert the worksheet into a Pandas DataFrame\n",
        "df = get_as_dataframe(worksheet)\n",
        "\n",
        "# Display the DataFrame\n",
        "print(df.head())\n"
      ],
      "metadata": {
        "colab": {
          "base_uri": "https://localhost:8080/"
        },
        "id": "OF8lRnhkTJah",
        "outputId": "4570e8aa-d819-4714-aa85-0b206d8a3ce5"
      },
      "execution_count": 16,
      "outputs": [
        {
          "output_type": "stream",
          "name": "stdout",
          "text": [
            "    age         workclass  education  educationno       maritalstatus  \\\n",
            "0  39.0         State-gov  Bachelors         13.0       Never-married   \n",
            "1  50.0  Self-emp-not-inc  Bachelors         13.0  Married-civ-spouse   \n",
            "2  38.0           Private    HS-grad          9.0            Divorced   \n",
            "3  53.0           Private       11th          7.0  Married-civ-spouse   \n",
            "4  28.0           Private  Bachelors         13.0  Married-civ-spouse   \n",
            "\n",
            "          occupation   relationship   race     sex  capitalgain  capitalloss  \\\n",
            "0       Adm-clerical  Not-in-family  White    Male       2174.0          0.0   \n",
            "1    Exec-managerial        Husband  White    Male          0.0          0.0   \n",
            "2  Handlers-cleaners  Not-in-family  White    Male          0.0          0.0   \n",
            "3  Handlers-cleaners        Husband  Black    Male          0.0          0.0   \n",
            "4     Prof-specialty           Wife  Black  Female          0.0          0.0   \n",
            "\n",
            "   hoursperweek         native Possibility  \n",
            "0          40.0  United-States       <=0.5  \n",
            "1          13.0  United-States       <=0.5  \n",
            "2          40.0  United-States       <=0.5  \n",
            "3          40.0  United-States       <=0.5  \n",
            "4          40.0           Cuba       <=0.5  \n"
          ]
        }
      ]
    },
    {
      "cell_type": "code",
      "source": [
        "# Check for missing values\n",
        "print(\"Missing values in each column before handling:\")\n",
        "print(df.isnull().sum())\n",
        "\n",
        "# Handle missing numerical values (e.g., age, capitalgain, hoursperweek) by filling with the mean\n",
        "numerical_cols = ['age', 'capitalgain', 'capitalloss', 'hoursperweek']\n",
        "for col in numerical_cols:\n",
        "    df[col].fillna(df[col].mean(), inplace=True)\n",
        "\n",
        "# Handle missing categorical values (e.g., workclass, occupation, native) by filling with the mode\n",
        "categorical_cols = ['workclass', 'occupation', 'native']\n",
        "for col in categorical_cols:\n",
        "    df[col].fillna(df[col].mode()[0], inplace=True)\n",
        "\n",
        "# Check for missing values after handling\n",
        "print(\"\\nMissing values in each column after handling:\")\n",
        "print(df.isnull().sum())\n",
        "\n",
        "# Display the first few rows of the cleaned DataFrame\n",
        "cleaned_df = df.head()\n",
        "print(\"\\nFirst few rows of the cleaned dataset:\")\n",
        "print(cleaned_df)\n",
        "\n",
        "# Save the cleaned DataFrame to an Excel file\n",
        "df.to_excel('cleaned_dataset.xlsx', index=False)"
      ],
      "metadata": {
        "colab": {
          "base_uri": "https://localhost:8080/"
        },
        "id": "Do7LzsAITL0L",
        "outputId": "220640e9-2dbd-4641-b2b0-9e60d03a7500"
      },
      "execution_count": 17,
      "outputs": [
        {
          "output_type": "stream",
          "name": "stdout",
          "text": [
            "Missing values in each column before handling:\n",
            "age                0\n",
            "workclass          0\n",
            "education          0\n",
            "educationno        0\n",
            "maritalstatus    200\n",
            "occupation         0\n",
            "relationship       0\n",
            "race             681\n",
            "sex              342\n",
            "capitalgain        0\n",
            "capitalloss        0\n",
            "hoursperweek     466\n",
            "native             0\n",
            "Possibility        0\n",
            "dtype: int64\n",
            "\n",
            "Missing values in each column after handling:\n",
            "age                0\n",
            "workclass          0\n",
            "education          0\n",
            "educationno        0\n",
            "maritalstatus    200\n",
            "occupation         0\n",
            "relationship       0\n",
            "race             681\n",
            "sex              342\n",
            "capitalgain        0\n",
            "capitalloss        0\n",
            "hoursperweek       0\n",
            "native             0\n",
            "Possibility        0\n",
            "dtype: int64\n",
            "\n",
            "First few rows of the cleaned dataset:\n",
            "    age         workclass  education  educationno       maritalstatus  \\\n",
            "0  39.0         State-gov  Bachelors         13.0       Never-married   \n",
            "1  50.0  Self-emp-not-inc  Bachelors         13.0  Married-civ-spouse   \n",
            "2  38.0           Private    HS-grad          9.0            Divorced   \n",
            "3  53.0           Private       11th          7.0  Married-civ-spouse   \n",
            "4  28.0           Private  Bachelors         13.0  Married-civ-spouse   \n",
            "\n",
            "          occupation   relationship   race     sex  capitalgain  capitalloss  \\\n",
            "0       Adm-clerical  Not-in-family  White    Male       2174.0          0.0   \n",
            "1    Exec-managerial        Husband  White    Male          0.0          0.0   \n",
            "2  Handlers-cleaners  Not-in-family  White    Male          0.0          0.0   \n",
            "3  Handlers-cleaners        Husband  Black    Male          0.0          0.0   \n",
            "4     Prof-specialty           Wife  Black  Female          0.0          0.0   \n",
            "\n",
            "   hoursperweek         native Possibility  \n",
            "0          40.0  United-States       <=0.5  \n",
            "1          13.0  United-States       <=0.5  \n",
            "2          40.0  United-States       <=0.5  \n",
            "3          40.0  United-States       <=0.5  \n",
            "4          40.0           Cuba       <=0.5  \n"
          ]
        },
        {
          "output_type": "stream",
          "name": "stderr",
          "text": [
            "<ipython-input-17-2013a56ba99f>:8: FutureWarning: A value is trying to be set on a copy of a DataFrame or Series through chained assignment using an inplace method.\n",
            "The behavior will change in pandas 3.0. This inplace method will never work because the intermediate object on which we are setting values always behaves as a copy.\n",
            "\n",
            "For example, when doing 'df[col].method(value, inplace=True)', try using 'df.method({col: value}, inplace=True)' or df[col] = df[col].method(value) instead, to perform the operation inplace on the original object.\n",
            "\n",
            "\n",
            "  df[col].fillna(df[col].mean(), inplace=True)\n",
            "<ipython-input-17-2013a56ba99f>:13: FutureWarning: A value is trying to be set on a copy of a DataFrame or Series through chained assignment using an inplace method.\n",
            "The behavior will change in pandas 3.0. This inplace method will never work because the intermediate object on which we are setting values always behaves as a copy.\n",
            "\n",
            "For example, when doing 'df[col].method(value, inplace=True)', try using 'df.method({col: value}, inplace=True)' or df[col] = df[col].method(value) instead, to perform the operation inplace on the original object.\n",
            "\n",
            "\n",
            "  df[col].fillna(df[col].mode()[0], inplace=True)\n"
          ]
        }
      ]
    },
    {
      "cell_type": "code",
      "source": [
        "# Convert categorical columns to numerical values\n",
        "df = pd.get_dummies(df, columns=categorical_cols, drop_first=True)\n",
        "\n",
        "X = df.drop(columns='Possibility')\n",
        "y = df['Possibility'].map({'>0.5': 'criminal', '<=0.5': 'innocent'})\n",
        "\n",
        "X = X.apply(pd.to_numeric, errors='coerce')\n",
        "X.fillna(0, inplace=True)  # Replace NaNs with 0 if there are any\n",
        "\n",
        "# Train-test split (simple split for demonstration)\n",
        "train_size = int(0.8 * len(df)) ############## can change ratio to change or random selection for best accuracy\n",
        "X_train, X_test = X[:train_size], X[train_size:]\n",
        "y_train, y_test = y[:train_size], y[train_size:]\n",
        "\n",
        "print(X_train.dtypes)"
      ],
      "metadata": {
        "colab": {
          "base_uri": "https://localhost:8080/"
        },
        "id": "2AXYtuoPUWZb",
        "outputId": "ae3313ca-0d06-45e1-fc3c-b4f2bb5e12a9"
      },
      "execution_count": 18,
      "outputs": [
        {
          "output_type": "stream",
          "name": "stdout",
          "text": [
            "age                       float64\n",
            "education                 float64\n",
            "educationno               float64\n",
            "maritalstatus             float64\n",
            "relationship              float64\n",
            "                           ...   \n",
            "native_Thailand              bool\n",
            "native_Trinadad&Tobago       bool\n",
            "native_United-States         bool\n",
            "native_Vietnam               bool\n",
            "native_Yugoslavia            bool\n",
            "Length: 68, dtype: object\n"
          ]
        }
      ]
    },
    {
      "cell_type": "code",
      "source": [
        "# Implement Naive Bayes classifier\n",
        "class NaiveBayesClassifier:\n",
        "    def __init__(self):\n",
        "        self.class_probs = {}\n",
        "        self.feature_probs = defaultdict(lambda: defaultdict(lambda: defaultdict(float)))\n",
        "        self.features = []\n",
        "\n",
        "    def fit(self, X, y):\n",
        "        self.features = X.columns\n",
        "\n",
        "        # Calculate class probabilities\n",
        "        class_counts = y.value_counts() # number of classes : criminal and innocent\n",
        "        total_samples = len(y) # num of rows\n",
        "        self.class_probs = {cls: count / total_samples for cls, count in class_counts.items()}\n",
        "\n",
        "        # Calculate feature probabilities\n",
        "        for feature in self.features:\n",
        "            for cls in self.class_probs:\n",
        "                class_df = X[y == cls]\n",
        "                feature_values = class_df[feature].values\n",
        "                mean = np.mean(feature_values)\n",
        "                std = np.std(feature_values)\n",
        "                self.feature_probs[feature][cls]['mean'] = mean\n",
        "                self.feature_probs[feature][cls]['std'] = std\n",
        "\n",
        "    def predict(self, X):\n",
        "        predictions = []\n",
        "        for _, row in X.iterrows():\n",
        "            class_probs = {}\n",
        "            for cls in self.class_probs:\n",
        "                prob = np.log(self.class_probs[cls])\n",
        "                for feature in self.features:\n",
        "                    mean = self.feature_probs[feature][cls]['mean']\n",
        "                    std = self.feature_probs[feature][cls]['std']\n",
        "                    x = row[feature]\n",
        "                    prob += -0.5 * np.log(2 * np.pi * std ** 2) - (x - mean) ** 2 / (2 * std ** 2)\n",
        "                class_probs[cls] = prob\n",
        "            predicted_class = max(class_probs, key=class_probs.get)\n",
        "            predictions.append(predicted_class)\n",
        "        return np.array(predictions)"
      ],
      "metadata": {
        "id": "RZ8XzJT1Y3gt"
      },
      "execution_count": 19,
      "outputs": []
    },
    {
      "cell_type": "code",
      "source": [
        "import numpy as np\n",
        "\n",
        "class NB:\n",
        "    def __init__(self):\n",
        "        self.class_probs = {} ### prior prob\n",
        "        self.feature_probs = {} ### conditional prob\n",
        "\n",
        "    def fit(self, X, y):\n",
        "        total_samples = len(y)\n",
        "        self.classes = np.unique(y)\n",
        "\n",
        "        # Calculate class probabilities (priors)\n",
        "        for cls in self.classes:\n",
        "            self.class_probs[cls] = np.sum(y == cls) / total_samples\n",
        "\n",
        "        # Calculate feature probabilities (likelihoods)\n",
        "        for feature in X.columns:\n",
        "            self.feature_probs[feature] = {}\n",
        "            for cls in self.classes:\n",
        "                class_data = X[y == cls]\n",
        "                self.feature_probs[feature][cls] = class_data[feature].value_counts(normalize=True).to_dict()\n",
        "\n",
        "    def predict(self, X):\n",
        "        predictions = []\n",
        "        for i, row in X.iterrows():\n",
        "            class_probs = {}\n",
        "            for cls in self.classes:\n",
        "                class_probs[cls] = np.log(self.class_probs[cls])  # Log of the prior probability\n",
        "                for feature in X.columns:\n",
        "                    feature_value = row[feature]\n",
        "                    if feature_value in self.feature_probs[feature][cls]:\n",
        "                        class_probs[cls] += np.log(self.feature_probs[feature][cls][feature_value])\n",
        "                    else:\n",
        "                        class_probs[cls] += np.log(1e-6)  # Smoothing for unseen feature values\n",
        "\n",
        "            predictions.append(max(class_probs, key=class_probs.get))\n",
        "        return predictions\n"
      ],
      "metadata": {
        "id": "NfrOZCHeY2lJ"
      },
      "execution_count": 20,
      "outputs": []
    },
    {
      "cell_type": "code",
      "source": [
        "# Train Naive Bayes model\n",
        "# nb_classifier = NaiveBayesClassifier()\n",
        "nb_classifier = NB()\n",
        "nb_classifier.fit(X_train, y_train)\n",
        "\n",
        "# Make predictions\n",
        "y_pred = nb_classifier.predict(X_test)\n",
        "\n",
        "# Evaluate accuracy\n",
        "accuracy = np.mean(y_pred == y_test)\n",
        "print(f'Accuracy: {accuracy:.2f}')"
      ],
      "metadata": {
        "colab": {
          "base_uri": "https://localhost:8080/"
        },
        "id": "5VVMhqEEYj8z",
        "outputId": "06b65bbc-8521-46d8-be46-fac769a380c7"
      },
      "execution_count": 21,
      "outputs": [
        {
          "output_type": "stream",
          "name": "stdout",
          "text": [
            "Accuracy: 0.82\n"
          ]
        }
      ]
    },
    {
      "cell_type": "code",
      "source": [],
      "metadata": {
        "id": "Luv_O_VCY6C6"
      },
      "execution_count": 21,
      "outputs": []
    },
    {
      "cell_type": "code",
      "source": [
        "from sklearn.model_selection import train_test_split\n",
        "from sklearn.naive_bayes import GaussianNB\n",
        "from sklearn.svm import SVC\n",
        "from sklearn.tree import DecisionTreeClassifier\n",
        "from sklearn.neighbors import KNeighborsClassifier\n",
        "from sklearn.metrics import accuracy_score, classification_report, confusion_matrix\n",
        "\n",
        "# NAIVE BAYES (by sklearn)\n",
        "\n",
        "nb_model = GaussianNB()\n",
        "nb_model.fit(X_train, y_train)\n",
        "y_pred_nb = nb_model.predict(X_test)\n",
        "\n",
        "# Evaluate\n",
        "nb_accuracy = accuracy_score(y_test, y_pred_nb)\n",
        "print(\"Sklearn Naive Bayes Accuracy: {:.2f}\".format(nb_accuracy))\n",
        "print(\"Classification Report:\\n\", classification_report(y_test, y_pred_nb))"
      ],
      "metadata": {
        "colab": {
          "base_uri": "https://localhost:8080/"
        },
        "id": "JsEmbRibEJBP",
        "outputId": "3fc7741f-3edf-4f94-ec95-4b2e5f024ced"
      },
      "execution_count": 22,
      "outputs": [
        {
          "output_type": "stream",
          "name": "stdout",
          "text": [
            "Sklearn Naive Bayes Accuracy: 0.80\n",
            "Classification Report:\n",
            "               precision    recall  f1-score   support\n",
            "\n",
            "    criminal       0.68      0.39      0.49      1533\n",
            "    innocent       0.82      0.94      0.87      4500\n",
            "\n",
            "    accuracy                           0.80      6033\n",
            "   macro avg       0.75      0.66      0.68      6033\n",
            "weighted avg       0.78      0.80      0.78      6033\n",
            "\n"
          ]
        }
      ]
    },
    {
      "cell_type": "code",
      "source": [
        "# Support Vector Machine (SVM)\n",
        "svm_model = SVC()\n",
        "svm_model.fit(X_train, y_train)\n",
        "y_pred_svm = svm_model.predict(X_test)\n",
        "\n",
        "# Evaluate\n",
        "svm_accuracy = accuracy_score(y_test, y_pred_svm)\n",
        "print(\"SVM Accuracy: {:.2f}\".format(svm_accuracy))\n",
        "print(\"Classification Report:\\n\", classification_report(y_test, y_pred_svm))\n"
      ],
      "metadata": {
        "colab": {
          "base_uri": "https://localhost:8080/"
        },
        "id": "qLZKYenDERus",
        "outputId": "1a1e63c5-c298-45d9-ad60-396967540eb6"
      },
      "execution_count": 23,
      "outputs": [
        {
          "output_type": "stream",
          "name": "stdout",
          "text": [
            "SVM Accuracy: 0.80\n",
            "Classification Report:\n",
            "               precision    recall  f1-score   support\n",
            "\n",
            "    criminal       0.76      0.28      0.41      1533\n",
            "    innocent       0.80      0.97      0.88      4500\n",
            "\n",
            "    accuracy                           0.80      6033\n",
            "   macro avg       0.78      0.63      0.64      6033\n",
            "weighted avg       0.79      0.80      0.76      6033\n",
            "\n"
          ]
        }
      ]
    },
    {
      "cell_type": "code",
      "source": [
        "# Decision Tree\n",
        "dt_model = DecisionTreeClassifier()\n",
        "dt_model.fit(X_train, y_train)\n",
        "y_pred_dt = dt_model.predict(X_test)\n",
        "\n",
        "# Evaluate\n",
        "dt_accuracy = accuracy_score(y_test, y_pred_dt)\n",
        "print(\"Decision Tree Accuracy: {:.2f}\".format(dt_accuracy))\n",
        "print(\"Classification Report:\\n\", classification_report(y_test, y_pred_dt))\n"
      ],
      "metadata": {
        "colab": {
          "base_uri": "https://localhost:8080/"
        },
        "id": "vmc1AFm-EdMU",
        "outputId": "3f8f2e62-e8d0-4c4d-8157-a6e6afbce7e8"
      },
      "execution_count": 30,
      "outputs": [
        {
          "output_type": "stream",
          "name": "stdout",
          "text": [
            "Decision Tree Accuracy: 0.78\n",
            "Classification Report:\n",
            "               precision    recall  f1-score   support\n",
            "\n",
            "    criminal       0.57      0.59      0.58      1533\n",
            "    innocent       0.86      0.85      0.85      4500\n",
            "\n",
            "    accuracy                           0.78      6033\n",
            "   macro avg       0.71      0.72      0.72      6033\n",
            "weighted avg       0.79      0.78      0.78      6033\n",
            "\n"
          ]
        }
      ]
    },
    {
      "cell_type": "code",
      "source": [
        "# K-Nearest Neighbors (KNN)\n",
        "knn_model = KNeighborsClassifier()\n",
        "knn_model.fit(X_train, y_train)\n",
        "y_pred_knn = knn_model.predict(X_test)\n",
        "\n",
        "# Evaluate\n",
        "knn_accuracy = accuracy_score(y_test, y_pred_knn)\n",
        "print(\"KNN Accuracy: {:.2f}\".format(knn_accuracy))\n",
        "print(\"Classification Report:\\n\", classification_report(y_test, y_pred_knn))\n"
      ],
      "metadata": {
        "colab": {
          "base_uri": "https://localhost:8080/"
        },
        "id": "Xn_Qhi6QEhMU",
        "outputId": "5704cb87-4b39-4512-b6f6-d75314f6aabc"
      },
      "execution_count": 25,
      "outputs": [
        {
          "output_type": "stream",
          "name": "stdout",
          "text": [
            "KNN Accuracy: 0.82\n",
            "Classification Report:\n",
            "               precision    recall  f1-score   support\n",
            "\n",
            "    criminal       0.68      0.56      0.61      1533\n",
            "    innocent       0.86      0.91      0.88      4500\n",
            "\n",
            "    accuracy                           0.82      6033\n",
            "   macro avg       0.77      0.74      0.75      6033\n",
            "weighted avg       0.81      0.82      0.82      6033\n",
            "\n"
          ]
        }
      ]
    },
    {
      "cell_type": "code",
      "source": [
        "# Comparison summary\n",
        "print(\"\\n--- Model Comparison ---\")\n",
        "print(\"Custom Naive Bayes Accuracy:\", accuracy)\n",
        "print(\"Sklearn Naive Bayes Accuracy:\", nb_accuracy)\n",
        "print(\"SVM Accuracy:\", svm_accuracy)\n",
        "print(\"Decision Tree Accuracy:\", dt_accuracy)\n",
        "print(\"KNN Accuracy:\", knn_accuracy)"
      ],
      "metadata": {
        "colab": {
          "base_uri": "https://localhost:8080/"
        },
        "id": "N43CVWpaFWGb",
        "outputId": "266fe97e-c143-45f3-ac43-42c421ee3877"
      },
      "execution_count": 26,
      "outputs": [
        {
          "output_type": "stream",
          "name": "stdout",
          "text": [
            "\n",
            "--- Model Comparison ---\n",
            "Custom Naive Bayes Accuracy: 0.824133930051384\n",
            "Sklearn Naive Bayes Accuracy: 0.7984419028675618\n",
            "SVM Accuracy: 0.7952925575998674\n",
            "Decision Tree Accuracy: 0.7838554616277142\n",
            "KNN Accuracy: 0.8214818498259573\n"
          ]
        }
      ]
    },
    {
      "cell_type": "code",
      "source": [],
      "metadata": {
        "id": "Gl_92P00GMlm"
      },
      "execution_count": 26,
      "outputs": []
    },
    {
      "cell_type": "code",
      "source": [
        "import numpy as np\n",
        "from collections import Counter\n",
        "\n",
        "class EnsembleClassifier:\n",
        "    def __init__(self, models):\n",
        "        \"\"\"\n",
        "        Initialize the ensemble with a list of models.\n",
        "        :param models: A list of tuples, where each tuple contains the model name and the model itself.\n",
        "        Example: [('Custom NB', custom_nb_classifier), ('SVM', svm_model), ...]\n",
        "        \"\"\"\n",
        "        self.models = models\n",
        "\n",
        "    def fit(self, X_train, y_train):\n",
        "        \"\"\"\n",
        "        Fit all models on the training data.\n",
        "        :param X_train: Training features\n",
        "        :param y_train: Training labels\n",
        "        \"\"\"\n",
        "        for name, model in self.models:\n",
        "            model.fit(X_train, y_train)\n",
        "\n",
        "    def predict(self, X_test):\n",
        "        \"\"\"\n",
        "        Predict using majority voting.\n",
        "        :param X_test: Test features\n",
        "        :return: Final predictions based on majority vote\n",
        "        \"\"\"\n",
        "        predictions = []\n",
        "\n",
        "        # Get predictions from all models\n",
        "        for name, model in self.models:\n",
        "            predictions.append(model.predict(X_test))\n",
        "\n",
        "        # Transpose the list of predictions to get a list of predictions for each instance\n",
        "        predictions = np.array(predictions).T\n",
        "\n",
        "        # Perform majority voting\n",
        "        final_predictions = []\n",
        "        for instance_preds in predictions:\n",
        "            # Majority vote (most common prediction)\n",
        "            final_predictions.append(Counter(instance_preds).most_common(1)[0][0])\n",
        "\n",
        "        return np.array(final_predictions)\n"
      ],
      "metadata": {
        "id": "eIdiQSG1GMb8"
      },
      "execution_count": 27,
      "outputs": []
    },
    {
      "cell_type": "code",
      "source": [
        "from sklearn.metrics import accuracy_score, f1_score, confusion_matrix, classification_report\n",
        "\n",
        "# Instantiate your custom Naive Bayes model\n",
        "# custom_nb_classifier = NaiveBayesClassifier()\n",
        "custom_nb_classifier = NB()\n",
        "\n",
        "# Instantiate sklearn models\n",
        "svm_model = SVC()\n",
        "dt_model = DecisionTreeClassifier()\n",
        "knn_model = KNeighborsClassifier()\n",
        "\n",
        "# List of models for the ensemble\n",
        "models = [\n",
        "    ('Custom NB', custom_nb_classifier),\n",
        "    ('SVM', svm_model),\n",
        "    ('Decision Tree', dt_model),\n",
        "    ('KNN', knn_model)\n",
        "]\n",
        "\n",
        "# Instantiate the ensemble classifier\n",
        "ensemble_classifier = EnsembleClassifier(models=models)\n",
        "\n",
        "# Fit the ensemble model\n",
        "ensemble_classifier.fit(X_train, y_train)\n",
        "\n",
        "# Predict using the ensemble model\n",
        "y_pred_ensemble = ensemble_classifier.predict(X_test)\n",
        "\n",
        "# Evaluate the ensemble model\n",
        "ensemble_accuracy = accuracy_score(y_test, y_pred_ensemble)\n",
        "ensemble_f1_score = f1_score(y_test, y_pred_ensemble, average='weighted')\n",
        "\n",
        "print(\"Ensemble Model Accuracy: {:.2f}\".format(ensemble_accuracy))\n",
        "print(\"Ensemble Model F1 Score: {:.2f}\".format(ensemble_f1_score))\n",
        "\n",
        "# Optional: Print confusion matrix and classification report\n",
        "print(\"Confusion Matrix:\\n\", confusion_matrix(y_test, y_pred_ensemble))\n",
        "print(\"Classification Report:\\n\", classification_report(y_test, y_pred_ensemble))\n"
      ],
      "metadata": {
        "colab": {
          "base_uri": "https://localhost:8080/"
        },
        "id": "o6Jz3vE2GNTK",
        "outputId": "7074e44a-edf0-4bf9-8857-d41cadf8715a"
      },
      "execution_count": 28,
      "outputs": [
        {
          "output_type": "stream",
          "name": "stdout",
          "text": [
            "Ensemble Model Accuracy: 0.84\n",
            "Ensemble Model F1 Score: 0.83\n",
            "Confusion Matrix:\n",
            " [[ 865  668]\n",
            " [ 311 4189]]\n",
            "Classification Report:\n",
            "               precision    recall  f1-score   support\n",
            "\n",
            "    criminal       0.74      0.56      0.64      1533\n",
            "    innocent       0.86      0.93      0.90      4500\n",
            "\n",
            "    accuracy                           0.84      6033\n",
            "   macro avg       0.80      0.75      0.77      6033\n",
            "weighted avg       0.83      0.84      0.83      6033\n",
            "\n"
          ]
        }
      ]
    },
    {
      "cell_type": "code",
      "source": [
        "import time\n",
        "\n",
        "# Measure time for training the ensemble\n",
        "start_time = time.time()\n",
        "ensemble_classifier.fit(X_train, y_train)\n",
        "training_time = time.time() - start_time\n",
        "print(f\"Ensemble Model Training Time: {training_time:.2f} seconds\")\n",
        "\n",
        "# Measure time for making predictions\n",
        "start_time = time.time()\n",
        "y_pred_ensemble = ensemble_classifier.predict(X_test)\n",
        "prediction_time = time.time() - start_time\n",
        "print(f\"Ensemble Model Prediction Time: {prediction_time:.2f} seconds\")\n"
      ],
      "metadata": {
        "colab": {
          "base_uri": "https://localhost:8080/"
        },
        "id": "qgN__kMlGQUN",
        "outputId": "3e0a4ec9-f22c-4206-af8e-847d30d247f2"
      },
      "execution_count": 29,
      "outputs": [
        {
          "output_type": "stream",
          "name": "stdout",
          "text": [
            "Ensemble Model Training Time: 46.50 seconds\n",
            "Ensemble Model Prediction Time: 12.06 seconds\n"
          ]
        }
      ]
    },
    {
      "cell_type": "code",
      "source": [],
      "metadata": {
        "id": "0CgEz9nYHUhK"
      },
      "execution_count": 29,
      "outputs": []
    }
  ]
}